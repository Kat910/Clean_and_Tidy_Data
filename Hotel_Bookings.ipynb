{
 "cells": [
  {
   "cell_type": "code",
   "execution_count": null,
   "id": "65f83c18",
   "metadata": {},
   "outputs": [],
   "source": [
    "#import pandas\n",
    "import pandas as pd"
   ]
  },
  {
   "cell_type": "code",
   "execution_count": null,
   "id": "16fbf6e0",
   "metadata": {},
   "outputs": [],
   "source": [
    "#Read in Dataset\n",
    "hotel_bookings=pd.read_csv('hotel_bookings.csv')"
   ]
  },
  {
   "cell_type": "code",
   "execution_count": null,
   "id": "a592621d",
   "metadata": {},
   "outputs": [],
   "source": [
    "#First look at the dataset\n",
    "hotel_bookings"
   ]
  },
  {
   "cell_type": "code",
   "execution_count": null,
   "id": "00601ccf",
   "metadata": {},
   "outputs": [],
   "source": [
    "#Drop/Rename columns\n",
    "hotel_bookings.columns"
   ]
  },
  {
   "cell_type": "code",
   "execution_count": null,
   "id": "d1c2d575",
   "metadata": {},
   "outputs": [],
   "source": [
    "#hotel_bookings.drop(columns=['Unamed:=0'], inplace=True)\n",
    "hotel_bookings.rename({'adults': 'num_adults', 'children': 'num_children', 'babies': 'num_babies'}, axis = 1, inplace=True)\n",
    "hotel_bookings.head()"
   ]
  },
  {
   "cell_type": "code",
   "execution_count": null,
   "id": "ad492a70",
   "metadata": {},
   "outputs": [],
   "source": [
    "#Nans\n",
    "hotel_bookings.isnull().sum() * 100 / len(hotel_bookings)"
   ]
  },
  {
   "cell_type": "code",
   "execution_count": null,
   "id": "c674c5ad",
   "metadata": {},
   "outputs": [],
   "source": [
    "hotel_bookings['agent'].unique()\n",
    "hotel_bookings[hotel_bookings['agent']==5]\n",
    "\n",
    "hotel_bookings['agent'].fillina(-1, inplace=True)\n"
   ]
  },
  {
   "cell_type": "code",
   "execution_count": null,
   "id": "5a50638c",
   "metadata": {},
   "outputs": [],
   "source": [
    "\n",
    "hotel_bookings[hotel_bookings['num_children'].isna()]\n",
    "\n"
   ]
  },
  {
   "cell_type": "code",
   "execution_count": null,
   "id": "977706e3",
   "metadata": {},
   "outputs": [],
   "source": [
    "hotel_bookings.dropna(subset=['num_children'], inplace=True)"
   ]
  },
  {
   "cell_type": "code",
   "execution_count": null,
   "id": "be7e05cd",
   "metadata": {},
   "outputs": [],
   "source": [
    "\n",
    "hotel_bookings.dropna(subset=['company'], inplace=True)"
   ]
  },
  {
   "cell_type": "code",
   "execution_count": null,
   "id": "06a0c93a",
   "metadata": {},
   "outputs": [],
   "source": [
    "hotel_bookings.dropna(subset=['lead_time'], inplace=True)"
   ]
  },
  {
   "cell_type": "code",
   "execution_count": null,
   "id": "5d512177",
   "metadata": {},
   "outputs": [],
   "source": [
    "hotel_bookings[hotel_bookings['country'].isna()][['hotel', 'is_canceled', 'country']]"
   ]
  },
  {
   "cell_type": "code",
   "execution_count": null,
   "id": "4b297745",
   "metadata": {},
   "outputs": [],
   "source": [
    "#Check Column data types\n",
    "hotel_bookings.dtypes"
   ]
  },
  {
   "cell_type": "code",
   "execution_count": null,
   "id": "7083edb5",
   "metadata": {},
   "outputs": [],
   "source": [
    "hotel_bookings = hotel_bookings.astype({\n",
    "    'is_canceled': 'boolean',         \n",
    "    'is_repeated_guest': 'boolean',   \n",
    "    'num_children': 'Int64',          \n",
    "    'agent': 'Int64'                  \n",
    "})\n",
    "#the video only used int and it caused an error - had to look up the correct value\n",
    "hotel_bookings.dtypes"
   ]
  },
  {
   "cell_type": "code",
   "execution_count": null,
   "id": "f235a1fe",
   "metadata": {},
   "outputs": [],
   "source": [
    "#bin collumns\n",
    "hotel_bookings['lead_time'].unique()\n",
    "hotel_bookings['lead_time'].describe()\n",
    "\n"
   ]
  },
  {
   "cell_type": "code",
   "execution_count": null,
   "id": "7f331879",
   "metadata": {},
   "outputs": [],
   "source": [
    "bins = [0, 100, 200, 300, 400, 500, 600, 700, 800]\n",
    "labels = ['0-100', '101 - 200', '201 - 300', '301 - 400', '401 - 500', '501 - 600', '601 - 700', '701 - 800']\n",
    "\n",
    "hotel_bookings['lead_time_binned'] = pd.cut(hotel_bookings['lead_time'], bins = bins, labels = labels, include_lowest=True)\n",
    "# include_lowest=True was NOT in the video\n",
    "\n",
    "hotel_bookings[['lead_time', 'lead_time_binned']]"
   ]
  },
  {
   "cell_type": "code",
   "execution_count": null,
   "id": "6833b3e1",
   "metadata": {},
   "outputs": [],
   "source": [
    "hotel_bookings.head()"
   ]
  },
  {
   "cell_type": "code",
   "execution_count": null,
   "id": "b602273c",
   "metadata": {},
   "outputs": [],
   "source": [
    "#Seperate Columns - this data had been prepared by the presenter and not included in the actual dataset.  She had the arrival date as Month-Year in one column.\n",
    "\n",
    "#hotel_bookings['arrival_date_month'] = hotel_bookings['arrival_date'].str.split('-', expand=True)[0]\n",
    "#hotel_bookings['arrival_date_year'] = hotel_bookings['arrival_date'].str.split('-', expand=True)[1]\n",
    "\n",
    "#This added collumns to the end.  To move them near the other dates.\n",
    "#column_to_move = hotel_bookings.pop('arrival_date_month')\n",
    "#hotel_bookings.insert(4, 'arrival_date_month', column_to_move)\n",
    "\n",
    "#column_to_move = hotel_bookings.pop('arrival_date_year')\n",
    "#hotel_bookings.insert(5, 'arrival_date_year', column_to_move)\n",
    "\n"
   ]
  },
  {
   "cell_type": "code",
   "execution_count": null,
   "id": "bac0c1cf",
   "metadata": {},
   "outputs": [],
   "source": [
    "#Special Characters in the data\n",
    "hotel_bookings['hotel'].unique()\n",
    "\n",
    "#this was mocked up data in the video not in the actual dataset"
   ]
  },
  {
   "cell_type": "code",
   "execution_count": null,
   "id": "8f9d0642",
   "metadata": {},
   "outputs": [],
   "source": [
    "#String Cleaning\n",
    "hotel_bookings['hotel']=hotel_bookings['hotel'].replace(\"[\\*\\n^]\", '', regex=True)\n",
    "hotel_bookings['hotel'].unique() #check to see if it worked\n"
   ]
  },
  {
   "cell_type": "code",
   "execution_count": null,
   "id": "55f815c9",
   "metadata": {},
   "outputs": [],
   "source": [
    "#Remove Duplicates\n",
    "hotel_bookings.loc[hotel_bookings.duplicated(keep=False)]\n",
    "\n",
    "hotel_bookings.drop_duplicates(keep = \"first\", inplace = True)"
   ]
  }
 ],
 "metadata": {
  "kernelspec": {
   "display_name": "Python 3",
   "language": "python",
   "name": "python3"
  },
  "language_info": {
   "codemirror_mode": {
    "name": "ipython",
    "version": 3
   },
   "file_extension": ".py",
   "mimetype": "text/x-python",
   "name": "python",
   "nbconvert_exporter": "python",
   "pygments_lexer": "ipython3",
   "version": "3.13.7"
  }
 },
 "nbformat": 4,
 "nbformat_minor": 5
}
